{
 "cells": [
  {
   "cell_type": "code",
   "execution_count": null,
   "id": "3fad6472-b4d6-45aa-be9e-54b9088b425b",
   "metadata": {},
   "outputs": [],
   "source": []
  }
 ],
 "metadata": {
  "kernelspec": {
   "display_name": "",
   "name": ""
  },
  "language_info": {
   "name": ""
  }
 },
 "nbformat": 4,
 "nbformat_minor": 5
}
